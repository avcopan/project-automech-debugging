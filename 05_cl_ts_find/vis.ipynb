{
 "cells": [
  {
   "cell_type": "code",
   "execution_count": 1,
   "metadata": {},
   "outputs": [],
   "source": [
    "import autofile"
   ]
  },
  {
   "cell_type": "code",
   "execution_count": 2,
   "metadata": {},
   "outputs": [
    {
     "data": {
      "text/plain": [
       "([['R14'], [2.503887116231622]],\n",
       " [['R14'], [2.6253695100110535]],\n",
       " [['R14'], [2.7468519037904855]],\n",
       " [['R14'], [2.868334297569917]],\n",
       " [['R14'], [2.989816691349349]],\n",
       " [['R14'], [3.1112990851287807]],\n",
       " [['R14'], [3.2327814789082128]],\n",
       " [['R14'], [3.3542638726876444]])"
      ]
     },
     "execution_count": 2,
     "metadata": {},
     "output_type": "execute_result"
    }
   ],
   "source": [
    "scan_prefix = \"/lcrc/project/PACC/copan/amech-dev/work/project-automech-debugging/05_cl_ts_find/save/RXN/C4H7O.ClH/LDWMUHCKAHUBHY/0_0/2_1/DFWYDOINSA-N/C4H8O.Cl/YVAVETQEMWSGBK/0_0/1_2/HKTIBRIUSA-N/2/u-ulpJU/TS/00/Z/00/\"\n",
    "scan_fs = autofile.fs.scan(scan_prefix)\n",
    "scan_fs[-1].existing()"
   ]
  },
  {
   "cell_type": "code",
   "execution_count": 8,
   "metadata": {},
   "outputs": [
    {
     "data": {
      "application/3dmoljs_load.v0": "<div id=\"3dmolviewer_17278983374761846\"  style=\"position: relative; width: 400px; height: 400px;\">\n        <p id=\"3dmolwarning_17278983374761846\" style=\"background-color:#ffcccc;color:black\">3Dmol.js failed to load for some reason.  Please check your browser console for error messages.<br></p>\n        </div>\n<script>\n\nvar loadScriptAsync = function(uri){\n  return new Promise((resolve, reject) => {\n    //this is to ignore the existence of requirejs amd\n    var savedexports, savedmodule;\n    if (typeof exports !== 'undefined') savedexports = exports;\n    else exports = {}\n    if (typeof module !== 'undefined') savedmodule = module;\n    else module = {}\n\n    var tag = document.createElement('script');\n    tag.src = uri;\n    tag.async = true;\n    tag.onload = () => {\n        exports = savedexports;\n        module = savedmodule;\n        resolve();\n    };\n  var firstScriptTag = document.getElementsByTagName('script')[0];\n  firstScriptTag.parentNode.insertBefore(tag, firstScriptTag);\n});\n};\n\nif(typeof $3Dmolpromise === 'undefined') {\n$3Dmolpromise = null;\n  $3Dmolpromise = loadScriptAsync('https://cdnjs.cloudflare.com/ajax/libs/3Dmol/2.1.0/3Dmol-min.js');\n}\n\nvar viewer_17278983374761846 = null;\nvar warn = document.getElementById(\"3dmolwarning_17278983374761846\");\nif(warn) {\n    warn.parentNode.removeChild(warn);\n}\n$3Dmolpromise.then(function() {\nviewer_17278983374761846 = $3Dmol.createViewer(document.getElementById(\"3dmolviewer_17278983374761846\"),{backgroundColor:\"white\"});\nviewer_17278983374761846.zoomTo();\n\tviewer_17278983374761846.addModel(\"\\n  automech\\n\\n  0  0  0  0  0  0  0  0  0  0999 V3000\\nM  V30 BEGIN CTAB\\nM  V30 COUNTS 14 13 0 0 0\\nM  V30 BEGIN ATOM\\nM  V30 1 C -1.154 -0.775 -0.024 RAD=1 VAL=4\\nM  V30 2 C -2.550 -0.794 -0.581 RAD=1 VAL=4\\nM  V30 3 C -0.369 0.435 0.155 RAD=2 VAL=3\\nM  V30 4 H -0.613 -1.720 -0.052 RAD=1 VAL=1\\nM  V30 5 O -0.989 -0.069 1.254 RAD=1 VAL=2\\nM  V30 6 C -0.477 1.855 -0.281 RAD=1 VAL=4\\nM  V30 7 H 1.368 -0.005 0.049 RAD=1 VAL=1\\nM  V30 8 H -2.524 -1.077 -1.638 RAD=1 VAL=1\\nM  V30 9 H -3.164 -1.526 -0.048 RAD=1 VAL=1\\nM  V30 10 H -3.025 0.187 -0.493 RAD=1 VAL=1\\nM  V30 11 H -1.527 2.139 -0.432 RAD=1 VAL=1\\nM  V30 12 H 0.066 2.006 -1.217 RAD=1 VAL=1\\nM  V30 13 H -0.051 2.513 0.482 RAD=1 VAL=1\\nM  V30 14 Cl 2.628 -0.370 -0.135 RAD=1 VAL=1\\nM  V30 END ATOM\\nM  V30 BEGIN BOND\\nM  V30 1 1 6 12 CFG=0\\nM  V30 2 1 2 10 CFG=0\\nM  V30 3 1 2 8 CFG=0\\nM  V30 4 1 1 4 CFG=0\\nM  V30 5 1 1 2 CFG=0\\nM  V30 6 1 1 3 CFG=0\\nM  V30 7 1 6 13 CFG=0\\nM  V30 8 1 3 6 CFG=0\\nM  V30 9 1 1 5 CFG=0\\nM  V30 10 1 3 5 CFG=0\\nM  V30 11 1 2 9 CFG=0\\nM  V30 12 1 7 14 CFG=0\\nM  V30 13 1 6 11 CFG=0\\nM  V30 END BOND\\nM  V30 END CTAB\\nM  END\\n\",\"sdf\");\n\tviewer_17278983374761846.setStyle({\"stick\": {}, \"sphere\": {\"radius\": 0.3}});\n\tviewer_17278983374761846.setBackgroundColor(\"0xeeeeee\");\n\tviewer_17278983374761846.zoomTo();\nviewer_17278983374761846.render();\n});\n</script>",
      "text/html": [
       "<div id=\"3dmolviewer_17278983374761846\"  style=\"position: relative; width: 400px; height: 400px;\">\n",
       "        <p id=\"3dmolwarning_17278983374761846\" style=\"background-color:#ffcccc;color:black\">3Dmol.js failed to load for some reason.  Please check your browser console for error messages.<br></p>\n",
       "        </div>\n",
       "<script>\n",
       "\n",
       "var loadScriptAsync = function(uri){\n",
       "  return new Promise((resolve, reject) => {\n",
       "    //this is to ignore the existence of requirejs amd\n",
       "    var savedexports, savedmodule;\n",
       "    if (typeof exports !== 'undefined') savedexports = exports;\n",
       "    else exports = {}\n",
       "    if (typeof module !== 'undefined') savedmodule = module;\n",
       "    else module = {}\n",
       "\n",
       "    var tag = document.createElement('script');\n",
       "    tag.src = uri;\n",
       "    tag.async = true;\n",
       "    tag.onload = () => {\n",
       "        exports = savedexports;\n",
       "        module = savedmodule;\n",
       "        resolve();\n",
       "    };\n",
       "  var firstScriptTag = document.getElementsByTagName('script')[0];\n",
       "  firstScriptTag.parentNode.insertBefore(tag, firstScriptTag);\n",
       "});\n",
       "};\n",
       "\n",
       "if(typeof $3Dmolpromise === 'undefined') {\n",
       "$3Dmolpromise = null;\n",
       "  $3Dmolpromise = loadScriptAsync('https://cdnjs.cloudflare.com/ajax/libs/3Dmol/2.1.0/3Dmol-min.js');\n",
       "}\n",
       "\n",
       "var viewer_17278983374761846 = null;\n",
       "var warn = document.getElementById(\"3dmolwarning_17278983374761846\");\n",
       "if(warn) {\n",
       "    warn.parentNode.removeChild(warn);\n",
       "}\n",
       "$3Dmolpromise.then(function() {\n",
       "viewer_17278983374761846 = $3Dmol.createViewer(document.getElementById(\"3dmolviewer_17278983374761846\"),{backgroundColor:\"white\"});\n",
       "viewer_17278983374761846.zoomTo();\n",
       "\tviewer_17278983374761846.addModel(\"\\n  automech\\n\\n  0  0  0  0  0  0  0  0  0  0999 V3000\\nM  V30 BEGIN CTAB\\nM  V30 COUNTS 14 13 0 0 0\\nM  V30 BEGIN ATOM\\nM  V30 1 C -1.154 -0.775 -0.024 RAD=1 VAL=4\\nM  V30 2 C -2.550 -0.794 -0.581 RAD=1 VAL=4\\nM  V30 3 C -0.369 0.435 0.155 RAD=2 VAL=3\\nM  V30 4 H -0.613 -1.720 -0.052 RAD=1 VAL=1\\nM  V30 5 O -0.989 -0.069 1.254 RAD=1 VAL=2\\nM  V30 6 C -0.477 1.855 -0.281 RAD=1 VAL=4\\nM  V30 7 H 1.368 -0.005 0.049 RAD=1 VAL=1\\nM  V30 8 H -2.524 -1.077 -1.638 RAD=1 VAL=1\\nM  V30 9 H -3.164 -1.526 -0.048 RAD=1 VAL=1\\nM  V30 10 H -3.025 0.187 -0.493 RAD=1 VAL=1\\nM  V30 11 H -1.527 2.139 -0.432 RAD=1 VAL=1\\nM  V30 12 H 0.066 2.006 -1.217 RAD=1 VAL=1\\nM  V30 13 H -0.051 2.513 0.482 RAD=1 VAL=1\\nM  V30 14 Cl 2.628 -0.370 -0.135 RAD=1 VAL=1\\nM  V30 END ATOM\\nM  V30 BEGIN BOND\\nM  V30 1 1 6 12 CFG=0\\nM  V30 2 1 2 10 CFG=0\\nM  V30 3 1 2 8 CFG=0\\nM  V30 4 1 1 4 CFG=0\\nM  V30 5 1 1 2 CFG=0\\nM  V30 6 1 1 3 CFG=0\\nM  V30 7 1 6 13 CFG=0\\nM  V30 8 1 3 6 CFG=0\\nM  V30 9 1 1 5 CFG=0\\nM  V30 10 1 3 5 CFG=0\\nM  V30 11 1 2 9 CFG=0\\nM  V30 12 1 7 14 CFG=0\\nM  V30 13 1 6 11 CFG=0\\nM  V30 END BOND\\nM  V30 END CTAB\\nM  END\\n\",\"sdf\");\n",
       "\tviewer_17278983374761846.setStyle({\"stick\": {}, \"sphere\": {\"radius\": 0.3}});\n",
       "\tviewer_17278983374761846.setBackgroundColor(\"0xeeeeee\");\n",
       "\tviewer_17278983374761846.zoomTo();\n",
       "viewer_17278983374761846.render();\n",
       "});\n",
       "</script>"
      ]
     },
     "metadata": {},
     "output_type": "display_data"
    }
   ],
   "source": [
    "import automol\n",
    "\n",
    "geo = scan_fs[-1].file.geometry.read([['R14'], [2.503887116231622]])\n",
    "automol.geom.display(geo)"
   ]
  },
  {
   "cell_type": "code",
   "execution_count": 9,
   "metadata": {},
   "outputs": [
    {
     "data": {
      "application/3dmoljs_load.v0": "<div id=\"3dmolviewer_1727898494759299\"  style=\"position: relative; width: 400px; height: 400px;\">\n        <p id=\"3dmolwarning_1727898494759299\" style=\"background-color:#ffcccc;color:black\">3Dmol.js failed to load for some reason.  Please check your browser console for error messages.<br></p>\n        </div>\n<script>\n\nvar loadScriptAsync = function(uri){\n  return new Promise((resolve, reject) => {\n    //this is to ignore the existence of requirejs amd\n    var savedexports, savedmodule;\n    if (typeof exports !== 'undefined') savedexports = exports;\n    else exports = {}\n    if (typeof module !== 'undefined') savedmodule = module;\n    else module = {}\n\n    var tag = document.createElement('script');\n    tag.src = uri;\n    tag.async = true;\n    tag.onload = () => {\n        exports = savedexports;\n        module = savedmodule;\n        resolve();\n    };\n  var firstScriptTag = document.getElementsByTagName('script')[0];\n  firstScriptTag.parentNode.insertBefore(tag, firstScriptTag);\n});\n};\n\nif(typeof $3Dmolpromise === 'undefined') {\n$3Dmolpromise = null;\n  $3Dmolpromise = loadScriptAsync('https://cdnjs.cloudflare.com/ajax/libs/3Dmol/2.1.0/3Dmol-min.js');\n}\n\nvar viewer_1727898494759299 = null;\nvar warn = document.getElementById(\"3dmolwarning_1727898494759299\");\nif(warn) {\n    warn.parentNode.removeChild(warn);\n}\n$3Dmolpromise.then(function() {\nviewer_1727898494759299 = $3Dmol.createViewer(document.getElementById(\"3dmolviewer_1727898494759299\"),{backgroundColor:\"white\"});\nviewer_1727898494759299.zoomTo();\n\tviewer_1727898494759299.addModel(\"\\n  automech\\n\\n  0  0  0  0  0  0  0  0  0  0999 V3000\\nM  V30 BEGIN CTAB\\nM  V30 COUNTS 14 13 0 0 0\\nM  V30 BEGIN ATOM\\nM  V30 1 C -1.147 -0.775 -0.051 RAD=1 VAL=4\\nM  V30 2 C -2.553 -0.688 -0.570 RAD=1 VAL=4\\nM  V30 3 C -0.264 0.380 0.141 RAD=1 VAL=4\\nM  V30 4 H -0.653 -1.739 -0.159 RAD=1 VAL=1\\nM  V30 5 O -0.895 -0.163 1.240 RAD=1 VAL=2\\nM  V30 6 C -0.456 1.825 -0.216 RAD=1 VAL=4\\nM  V30 7 H 0.870 0.094 0.080 RAD=1 VAL=1\\nM  V30 8 H -2.568 -0.910 -1.642 RAD=1 VAL=1\\nM  V30 9 H -3.188 -1.422 -0.063 RAD=1 VAL=1\\nM  V30 10 H -2.982 0.304 -0.411 RAD=1 VAL=1\\nM  V30 11 H -1.520 2.077 -0.251 RAD=1 VAL=1\\nM  V30 12 H -0.002 2.030 -1.189 RAD=1 VAL=1\\nM  V30 13 H 0.026 2.458 0.535 RAD=1 VAL=1\\nM  V30 14 Cl 2.571 -0.355 -0.155 RAD=2 VAL=-1\\nM  V30 END ATOM\\nM  V30 BEGIN BOND\\nM  V30 1 1 6 12 CFG=0\\nM  V30 2 1 2 10 CFG=0\\nM  V30 3 1 2 8 CFG=0\\nM  V30 4 1 3 7 CFG=0\\nM  V30 5 1 1 4 CFG=0\\nM  V30 6 1 1 2 CFG=0\\nM  V30 7 1 1 3 CFG=0\\nM  V30 8 1 6 13 CFG=0\\nM  V30 9 1 3 6 CFG=0\\nM  V30 10 1 1 5 CFG=0\\nM  V30 11 1 3 5 CFG=0\\nM  V30 12 1 2 9 CFG=0\\nM  V30 13 1 6 11 CFG=0\\nM  V30 END BOND\\nM  V30 END CTAB\\nM  END\\n\",\"sdf\");\n\tviewer_1727898494759299.setStyle({\"stick\": {}, \"sphere\": {\"radius\": 0.3}});\n\tviewer_1727898494759299.setBackgroundColor(\"0xeeeeee\");\n\tviewer_1727898494759299.zoomTo();\nviewer_1727898494759299.render();\n});\n</script>",
      "text/html": [
       "<div id=\"3dmolviewer_1727898494759299\"  style=\"position: relative; width: 400px; height: 400px;\">\n",
       "        <p id=\"3dmolwarning_1727898494759299\" style=\"background-color:#ffcccc;color:black\">3Dmol.js failed to load for some reason.  Please check your browser console for error messages.<br></p>\n",
       "        </div>\n",
       "<script>\n",
       "\n",
       "var loadScriptAsync = function(uri){\n",
       "  return new Promise((resolve, reject) => {\n",
       "    //this is to ignore the existence of requirejs amd\n",
       "    var savedexports, savedmodule;\n",
       "    if (typeof exports !== 'undefined') savedexports = exports;\n",
       "    else exports = {}\n",
       "    if (typeof module !== 'undefined') savedmodule = module;\n",
       "    else module = {}\n",
       "\n",
       "    var tag = document.createElement('script');\n",
       "    tag.src = uri;\n",
       "    tag.async = true;\n",
       "    tag.onload = () => {\n",
       "        exports = savedexports;\n",
       "        module = savedmodule;\n",
       "        resolve();\n",
       "    };\n",
       "  var firstScriptTag = document.getElementsByTagName('script')[0];\n",
       "  firstScriptTag.parentNode.insertBefore(tag, firstScriptTag);\n",
       "});\n",
       "};\n",
       "\n",
       "if(typeof $3Dmolpromise === 'undefined') {\n",
       "$3Dmolpromise = null;\n",
       "  $3Dmolpromise = loadScriptAsync('https://cdnjs.cloudflare.com/ajax/libs/3Dmol/2.1.0/3Dmol-min.js');\n",
       "}\n",
       "\n",
       "var viewer_1727898494759299 = null;\n",
       "var warn = document.getElementById(\"3dmolwarning_1727898494759299\");\n",
       "if(warn) {\n",
       "    warn.parentNode.removeChild(warn);\n",
       "}\n",
       "$3Dmolpromise.then(function() {\n",
       "viewer_1727898494759299 = $3Dmol.createViewer(document.getElementById(\"3dmolviewer_1727898494759299\"),{backgroundColor:\"white\"});\n",
       "viewer_1727898494759299.zoomTo();\n",
       "\tviewer_1727898494759299.addModel(\"\\n  automech\\n\\n  0  0  0  0  0  0  0  0  0  0999 V3000\\nM  V30 BEGIN CTAB\\nM  V30 COUNTS 14 13 0 0 0\\nM  V30 BEGIN ATOM\\nM  V30 1 C -1.147 -0.775 -0.051 RAD=1 VAL=4\\nM  V30 2 C -2.553 -0.688 -0.570 RAD=1 VAL=4\\nM  V30 3 C -0.264 0.380 0.141 RAD=1 VAL=4\\nM  V30 4 H -0.653 -1.739 -0.159 RAD=1 VAL=1\\nM  V30 5 O -0.895 -0.163 1.240 RAD=1 VAL=2\\nM  V30 6 C -0.456 1.825 -0.216 RAD=1 VAL=4\\nM  V30 7 H 0.870 0.094 0.080 RAD=1 VAL=1\\nM  V30 8 H -2.568 -0.910 -1.642 RAD=1 VAL=1\\nM  V30 9 H -3.188 -1.422 -0.063 RAD=1 VAL=1\\nM  V30 10 H -2.982 0.304 -0.411 RAD=1 VAL=1\\nM  V30 11 H -1.520 2.077 -0.251 RAD=1 VAL=1\\nM  V30 12 H -0.002 2.030 -1.189 RAD=1 VAL=1\\nM  V30 13 H 0.026 2.458 0.535 RAD=1 VAL=1\\nM  V30 14 Cl 2.571 -0.355 -0.155 RAD=2 VAL=-1\\nM  V30 END ATOM\\nM  V30 BEGIN BOND\\nM  V30 1 1 6 12 CFG=0\\nM  V30 2 1 2 10 CFG=0\\nM  V30 3 1 2 8 CFG=0\\nM  V30 4 1 3 7 CFG=0\\nM  V30 5 1 1 4 CFG=0\\nM  V30 6 1 1 2 CFG=0\\nM  V30 7 1 1 3 CFG=0\\nM  V30 8 1 6 13 CFG=0\\nM  V30 9 1 3 6 CFG=0\\nM  V30 10 1 1 5 CFG=0\\nM  V30 11 1 3 5 CFG=0\\nM  V30 12 1 2 9 CFG=0\\nM  V30 13 1 6 11 CFG=0\\nM  V30 END BOND\\nM  V30 END CTAB\\nM  END\\n\",\"sdf\");\n",
       "\tviewer_1727898494759299.setStyle({\"stick\": {}, \"sphere\": {\"radius\": 0.3}});\n",
       "\tviewer_1727898494759299.setBackgroundColor(\"0xeeeeee\");\n",
       "\tviewer_1727898494759299.zoomTo();\n",
       "viewer_1727898494759299.render();\n",
       "});\n",
       "</script>"
      ]
     },
     "metadata": {},
     "output_type": "display_data"
    }
   ],
   "source": [
    "geo = scan_fs[-1].file.geometry.read([['R14'], [3.3542638726876444]])\n",
    "automol.geom.display(geo)"
   ]
  },
  {
   "cell_type": "code",
   "execution_count": 3,
   "metadata": {},
   "outputs": [
    {
     "name": "stdout",
     "output_type": "stream",
     "text": [
      "[1.324556284486528, 1.3888204707958474, 1.453084657105167, 1.5173488434144862, 1.5816130297238058, 1.645877216033125, 1.7101414023424446, 1.774405588651764]\n",
      "[-692.476049199, -692.476784649, -692.47782628, -692.47900326, -692.47992247, -692.480486083, -692.480719855, -692.480697504]\n"
     ]
    },
    {
     "data": {
      "image/png": "[encoded data removed]",
      "text/plain": [
       "<Figure size 640x480 with 1 Axes>"
      ]
     },
     "metadata": {},
     "output_type": "display_data"
    }
   ],
   "source": [
    "ene_locs = [\"wb97xd\", \"6-31g*\", \"U\"]\n",
    "\n",
    "dists = []\n",
    "enes = []\n",
    "for locs in scan_fs[-1].existing():\n",
    "    # Get the distance\n",
    "    *_, (dist,) = locs\n",
    "    dists.append(dist * 0.529)\n",
    "\n",
    "    # Get the energy\n",
    "    scan_path = scan_fs[-1].path(locs)\n",
    "    sp_fs = autofile.fs.single_point(scan_path)\n",
    "    ene = sp_fs[-1].file.energy.read(ene_locs)\n",
    "    enes.append(ene)\n",
    "print(dists)\n",
    "print(enes)\n",
    "\n",
    "enes.insert(0, -692.476049199)\n",
    "dists.insert(0, 2.50388712 * 0.529)\n",
    "\n",
    "from matplotlib import pyplot\n",
    "\n",
    "pyplot.plot(dists, enes)\n",
    "pyplot.show()"
   ]
  },
  {
   "cell_type": "code",
   "execution_count": 4,
   "metadata": {},
   "outputs": [
    {
     "data": {
      "text/plain": [
       "1.3225"
      ]
     },
     "execution_count": 4,
     "metadata": {},
     "output_type": "execute_result"
    }
   ],
   "source": [
    "2.50 * 0.529"
   ]
  },
  {
   "cell_type": "code",
   "execution_count": null,
   "metadata": {},
   "outputs": [],
   "source": []
  }
 ],
 "metadata": {
  "kernelspec": {
   "display_name": "default",
   "language": "python",
   "name": "python3"
  },
  "language_info": {
   "codemirror_mode": {
    "name": "ipython",
    "version": 3
   },
   "file_extension": ".py",
   "mimetype": "text/x-python",
   "name": "python",
   "nbconvert_exporter": "python",
   "pygments_lexer": "ipython3",
   "version": "3.10.14"
  }
 },
 "nbformat": 4,
 "nbformat_minor": 2
}
