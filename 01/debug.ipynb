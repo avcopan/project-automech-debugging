{
 "cells": [
  {
   "cell_type": "code",
   "execution_count": 1,
   "metadata": {},
   "outputs": [],
   "source": [
    "import automol"
   ]
  },
  {
   "cell_type": "code",
   "execution_count": 2,
   "metadata": {},
   "outputs": [
    {
     "data": {
      "text/plain": [
       "Rotor(zmatrix=(('C', (None, None, None), (None, None, None), (None, None, None)), ('C', (0, None, None), ('R1', None, None), (2.780660184018427, None, None)), ('C', (0, 1, None), ('R2', 'A2', None), (2.7866865206325118, 2.1336137502429366, None)), ('H', (0, 1, 2), ('R3', 'A3', 'D3'), (2.053285701068454, 2.021245229302752, 3.603635499065967)), ('O', (2, 0, 1), ('R4', 'A4', 'D4'), (2.672233368118033, 1.0294484253684413, 1.8106639770266553)), ('C', (2, 0, 4), ('R5', 'A5', 'D5'), (2.8333759840141983, 2.1304740076383544, 1.825096558397002)), ('H', (2, 0, 4), ('R6', 'A6', 'D6'), (2.05506393335251, 2.0371473604499855, 4.48958991719915)), ('H', (1, 0, 2), ('R7', 'A7', 'D7'), (2.5835541902286736, 1.8428560165743302, 3.7413717523653585)), ('H', (1, 0, 7), ('R8', 'A8', 'D8'), (2.0520762763481613, 2.0126904456142243, 1.9991027257748906)), ('H', (1, 0, 7), ('R9', 'A9', 'D9'), (2.054493236062622, 2.013549898097784, 4.395015167609388)), ('X', (7, 1, 0), ('R10', 'A10', 'D10'), (1.8897261254578281, 1.5314268650444904, 4.97020990760721)), ('H', (5, 2, 0), ('R11', 'A11', 'D11'), (2.0607161041937543, 1.9249205253384776, 3.7368581040268984)), ('H', (5, 2, 11), ('R12', 'A12', 'D12'), (2.0607538987162632, 1.9278022384664453, 4.197903493835557)), ('H', (5, 2, 11), ('R13', 'A13', 'D13'), (2.0580988335099955, 1.9312552502184686, 2.092258836842047)), ('O', (7, 10, 1), ('R14', 'A14', 'D14'), (2.1873920052876943, 1.524291871795875, 3.107995519274508)), ('O', (14, 7, 10), ('R15', 'A15', 'D15'), (2.611083720424343, 1.827690431824731, 5.327303015928189)), ('C', (15, 14, 7), ('R16', 'A16', 'D16'), (2.669034061787633, 1.8934860808592158, 4.694436052459778)), ('H', (16, 15, 14), ('R17', 'A17', 'D17'), (2.0579438759677076, 1.8433413053728473, 3.2102085103494056)), ('H', (16, 15, 17), ('R18', 'A18', 'D18'), (2.060865392557665, 1.9330786131413193, 2.081979493319624)), ('H', (16, 15, 17), ('R19', 'A19', 'D19'), (2.066782125056474, 1.9332843525535446, 4.209451744084058))), torsions=[Torsion(name='D15', coordinate=(10, 7, 14, 15), groups=((0, 1, 2, 3, 4, 5, 6, 8, 9, 11, 12, 13), (15, 16, 17, 18, 19)), symmetry=1, neighbor_groups=None)], potential=None)"
      ]
     },
     "execution_count": 2,
     "metadata": {},
     "output_type": "execute_result"
    }
   ],
   "source": [
    "rotor = automol.data.rotor.Rotor(\n",
    "    zmatrix=(('C', (None, None, None), (None, None, None), (None, None, None)), ('C', (0, None, None), ('R1', None, None), (2.780660184018427, None, None)), ('C', (0, 1, None), ('R2', 'A2', None), (2.7866865206325118, 2.1336137502429366, None)), ('H', (0, 1, 2), ('R3', 'A3', 'D3'), (2.053285701068454, 2.021245229302752, 3.603635499065967)), ('O', (2, 0, 1), ('R4', 'A4', 'D4'), (2.672233368118033, 1.0294484253684413, 1.8106639770266553)), ('C', (2, 0, 4), ('R5', 'A5', 'D5'), (2.8333759840141983, 2.1304740076383544, 1.825096558397002)), ('H', (2, 0, 4), ('R6', 'A6', 'D6'), (2.05506393335251, 2.0371473604499855, 4.48958991719915)), ('H', (1, 0, 2), ('R7', 'A7', 'D7'), (2.5835541902286736, 1.8428560165743302, 3.7413717523653585)), ('H', (1, 0, 7), ('R8', 'A8', 'D8'), (2.0520762763481613, 2.0126904456142243, 1.9991027257748906)), ('H', (1, 0, 7), ('R9', 'A9', 'D9'), (2.054493236062622, 2.013549898097784, 4.395015167609388)), ('X', (7, 1, 0), ('R10', 'A10', 'D10'), (1.8897261254578281, 1.5314268650444904, 4.97020990760721)), ('H', (5, 2, 0), ('R11', 'A11', 'D11'), (2.0607161041937543, 1.9249205253384776, 3.7368581040268984)), ('H', (5, 2, 11), ('R12', 'A12', 'D12'), (2.0607538987162632, 1.9278022384664453, 4.197903493835557)), ('H', (5, 2, 11), ('R13', 'A13', 'D13'), (2.0580988335099955, 1.9312552502184686, 2.092258836842047)), ('O', (7, 10, 1), ('R14', 'A14', 'D14'), (2.1873920052876943, 1.524291871795875, 3.107995519274508)), ('O', (14, 7, 10), ('R15', 'A15', 'D15'), (2.611083720424343, 1.827690431824731, 5.327303015928189)), ('C', (15, 14, 7), ('R16', 'A16', 'D16'), (2.669034061787633, 1.8934860808592158, 4.694436052459778)), ('H', (16, 15, 14), ('R17', 'A17', 'D17'), (2.0579438759677076, 1.8433413053728473, 3.2102085103494056)), ('H', (16, 15, 17), ('R18', 'A18', 'D18'), (2.060865392557665, 1.9330786131413193, 2.081979493319624)), ('H', (16, 15, 17), ('R19', 'A19', 'D19'), (2.066782125056474, 1.9332843525535446, 4.209451744084058))),\n",
    "    torsions=[automol.data.tors.Torsion(name='D15', coordinate=(10, 7, 14, 15), groups=((0, 1, 2, 3, 4, 5, 6, 8, 9, 11, 12, 13), (15, 16, 17, 18, 19)), symmetry=1)]\n",
    ")\n",
    "rotor"
   ]
  },
  {
   "cell_type": "code",
   "execution_count": 3,
   "metadata": {},
   "outputs": [
    {
     "data": {
      "image/png": "[encoded data removed]",
      "text/plain": [
       "<rdkit.Chem.rdchem.Mol at 0x14cccb8ab680>"
      ]
     },
     "metadata": {},
     "output_type": "display_data"
    },
    {
     "data": {
      "application/3dmoljs_load.v0": "<div id=\"3dmolviewer_17237737928875601\"  style=\"position: relative; width: 400px; height: 400px;\">\n        <p id=\"3dmolwarning_17237737928875601\" style=\"background-color:#ffcccc;color:black\">3Dmol.js failed to load for some reason.  Please check your browser console for error messages.<br></p>\n        </div>\n<script>\n\nvar loadScriptAsync = function(uri){\n  return new Promise((resolve, reject) => {\n    //this is to ignore the existence of requirejs amd\n    var savedexports, savedmodule;\n    if (typeof exports !== 'undefined') savedexports = exports;\n    else exports = {}\n    if (typeof module !== 'undefined') savedmodule = module;\n    else module = {}\n\n    var tag = document.createElement('script');\n    tag.src = uri;\n    tag.async = true;\n    tag.onload = () => {\n        exports = savedexports;\n        module = savedmodule;\n        resolve();\n    };\n  var firstScriptTag = document.getElementsByTagName('script')[0];\n  firstScriptTag.parentNode.insertBefore(tag, firstScriptTag);\n});\n};\n\nif(typeof $3Dmolpromise === 'undefined') {\n$3Dmolpromise = null;\n  $3Dmolpromise = loadScriptAsync('https://cdnjs.cloudflare.com/ajax/libs/3Dmol/2.1.0/3Dmol-min.js');\n}\n\nvar viewer_17237737928875601 = null;\nvar warn = document.getElementById(\"3dmolwarning_17237737928875601\");\nif(warn) {\n    warn.parentNode.removeChild(warn);\n}\n$3Dmolpromise.then(function() {\nviewer_17237737928875601 = $3Dmol.createViewer(document.getElementById(\"3dmolviewer_17237737928875601\"),{backgroundColor:\"white\"});\nviewer_17237737928875601.zoomTo();\n\tviewer_17237737928875601.addModel(\"\\n  automech\\n\\n  0  0  0  0  0  0  0  0  0  0999 V3000\\nM  V30 BEGIN CTAB\\nM  V30 COUNTS 20 18 0 0 0\\nM  V30 BEGIN ATOM\\nM  V30 1 C 0.000 0.000 0.000 RAD=2 VAL=3\\nM  V30 2 C 0.000 0.000 1.471 RAD=1 VAL=4\\nM  V30 3 C 0.000 1.247 -0.787 RAD=1 VAL=4\\nM  V30 4 H -0.436 -0.876 -0.473 RAD=1 VAL=1\\nM  V30 5 O 1.177 0.477 -0.642 RAD=2 VAL=1\\nM  V30 6 C -0.603 1.324 -2.158 RAD=1 VAL=4\\nM  V30 7 H 0.017 2.179 -0.226 RAD=1 VAL=1\\nM  V30 8 H 0.743 -1.087 1.839 RAD=0 VAL=2\\nM  V30 9 H 0.507 0.841 1.936 RAD=1 VAL=1\\nM  V30 10 H -0.943 -0.274 1.937 RAD=1 VAL=1\\nM  V30 11 He -0.037 -1.658 1.583 RAD=1 VAL=-1\\nM  V30 12 H -0.036 2.016 -2.782 RAD=1 VAL=1\\nM  V30 13 H -1.632 1.680 -2.102 RAD=1 VAL=1\\nM  V30 14 H -0.594 0.345 -2.636 RAD=1 VAL=1\\nM  V30 15 O 1.281 -2.061 2.160 RAD=1 VAL=2\\nM  V30 16 O 0.416 -2.659 3.057 RAD=1 VAL=2\\nM  V30 17 C 0.741 -2.213 4.357 RAD=1 VAL=4\\nM  V30 18 H 0.083 -2.764 5.028 RAD=1 VAL=1\\nM  V30 19 H 1.784 -2.429 4.591 RAD=1 VAL=1\\nM  V30 20 H 0.556 -1.140 4.457 RAD=1 VAL=1\\nM  V30 END ATOM\\nM  V30 BEGIN BOND\\nM  V30 1 1 6 12 CFG=0\\nM  V30 2 1 2 10 CFG=0\\nM  V30 3 1 2 8 CFG=0\\nM  V30 4 1 17 18 CFG=0\\nM  V30 5 1 3 7 CFG=0\\nM  V30 6 1 1 4 CFG=0\\nM  V30 7 1 1 2 CFG=0\\nM  V30 8 1 6 13 CFG=0\\nM  V30 9 1 1 3 CFG=0\\nM  V30 10 1 3 6 CFG=0\\nM  V30 11 1 16 17 CFG=0\\nM  V30 12 1 8 15 CFG=0\\nM  V30 13 1 3 5 CFG=0\\nM  V30 14 1 2 9 CFG=0\\nM  V30 15 1 17 20 CFG=0\\nM  V30 16 1 6 14 CFG=0\\nM  V30 17 1 17 19 CFG=0\\nM  V30 18 1 15 16 CFG=0\\nM  V30 END BOND\\nM  V30 END CTAB\\nM  END\\n\",\"sdf\");\n\tviewer_17237737928875601.setStyle({\"stick\": {}, \"sphere\": {\"radius\": 0.3}});\n\tviewer_17237737928875601.setBackgroundColor(\"0xeeeeee\");\n\tviewer_17237737928875601.zoomTo();\nviewer_17237737928875601.render();\n});\n</script>",
      "text/html": [
       "<div id=\"3dmolviewer_17237737928875601\"  style=\"position: relative; width: 400px; height: 400px;\">\n",
       "        <p id=\"3dmolwarning_17237737928875601\" style=\"background-color:#ffcccc;color:black\">3Dmol.js failed to load for some reason.  Please check your browser console for error messages.<br></p>\n",
       "        </div>\n",
       "<script>\n",
       "\n",
       "var loadScriptAsync = function(uri){\n",
       "  return new Promise((resolve, reject) => {\n",
       "    //this is to ignore the existence of requirejs amd\n",
       "    var savedexports, savedmodule;\n",
       "    if (typeof exports !== 'undefined') savedexports = exports;\n",
       "    else exports = {}\n",
       "    if (typeof module !== 'undefined') savedmodule = module;\n",
       "    else module = {}\n",
       "\n",
       "    var tag = document.createElement('script');\n",
       "    tag.src = uri;\n",
       "    tag.async = true;\n",
       "    tag.onload = () => {\n",
       "        exports = savedexports;\n",
       "        module = savedmodule;\n",
       "        resolve();\n",
       "    };\n",
       "  var firstScriptTag = document.getElementsByTagName('script')[0];\n",
       "  firstScriptTag.parentNode.insertBefore(tag, firstScriptTag);\n",
       "});\n",
       "};\n",
       "\n",
       "if(typeof $3Dmolpromise === 'undefined') {\n",
       "$3Dmolpromise = null;\n",
       "  $3Dmolpromise = loadScriptAsync('https://cdnjs.cloudflare.com/ajax/libs/3Dmol/2.1.0/3Dmol-min.js');\n",
       "}\n",
       "\n",
       "var viewer_17237737928875601 = null;\n",
       "var warn = document.getElementById(\"3dmolwarning_17237737928875601\");\n",
       "if(warn) {\n",
       "    warn.parentNode.removeChild(warn);\n",
       "}\n",
       "$3Dmolpromise.then(function() {\n",
       "viewer_17237737928875601 = $3Dmol.createViewer(document.getElementById(\"3dmolviewer_17237737928875601\"),{backgroundColor:\"white\"});\n",
       "viewer_17237737928875601.zoomTo();\n",
       "\tviewer_17237737928875601.addModel(\"\\n  automech\\n\\n  0  0  0  0  0  0  0  0  0  0999 V3000\\nM  V30 BEGIN CTAB\\nM  V30 COUNTS 20 18 0 0 0\\nM  V30 BEGIN ATOM\\nM  V30 1 C 0.000 0.000 0.000 RAD=2 VAL=3\\nM  V30 2 C 0.000 0.000 1.471 RAD=1 VAL=4\\nM  V30 3 C 0.000 1.247 -0.787 RAD=1 VAL=4\\nM  V30 4 H -0.436 -0.876 -0.473 RAD=1 VAL=1\\nM  V30 5 O 1.177 0.477 -0.642 RAD=2 VAL=1\\nM  V30 6 C -0.603 1.324 -2.158 RAD=1 VAL=4\\nM  V30 7 H 0.017 2.179 -0.226 RAD=1 VAL=1\\nM  V30 8 H 0.743 -1.087 1.839 RAD=0 VAL=2\\nM  V30 9 H 0.507 0.841 1.936 RAD=1 VAL=1\\nM  V30 10 H -0.943 -0.274 1.937 RAD=1 VAL=1\\nM  V30 11 He -0.037 -1.658 1.583 RAD=1 VAL=-1\\nM  V30 12 H -0.036 2.016 -2.782 RAD=1 VAL=1\\nM  V30 13 H -1.632 1.680 -2.102 RAD=1 VAL=1\\nM  V30 14 H -0.594 0.345 -2.636 RAD=1 VAL=1\\nM  V30 15 O 1.281 -2.061 2.160 RAD=1 VAL=2\\nM  V30 16 O 0.416 -2.659 3.057 RAD=1 VAL=2\\nM  V30 17 C 0.741 -2.213 4.357 RAD=1 VAL=4\\nM  V30 18 H 0.083 -2.764 5.028 RAD=1 VAL=1\\nM  V30 19 H 1.784 -2.429 4.591 RAD=1 VAL=1\\nM  V30 20 H 0.556 -1.140 4.457 RAD=1 VAL=1\\nM  V30 END ATOM\\nM  V30 BEGIN BOND\\nM  V30 1 1 6 12 CFG=0\\nM  V30 2 1 2 10 CFG=0\\nM  V30 3 1 2 8 CFG=0\\nM  V30 4 1 17 18 CFG=0\\nM  V30 5 1 3 7 CFG=0\\nM  V30 6 1 1 4 CFG=0\\nM  V30 7 1 1 2 CFG=0\\nM  V30 8 1 6 13 CFG=0\\nM  V30 9 1 1 3 CFG=0\\nM  V30 10 1 3 6 CFG=0\\nM  V30 11 1 16 17 CFG=0\\nM  V30 12 1 8 15 CFG=0\\nM  V30 13 1 3 5 CFG=0\\nM  V30 14 1 2 9 CFG=0\\nM  V30 15 1 17 20 CFG=0\\nM  V30 16 1 6 14 CFG=0\\nM  V30 17 1 17 19 CFG=0\\nM  V30 18 1 15 16 CFG=0\\nM  V30 END BOND\\nM  V30 END CTAB\\nM  END\\n\",\"sdf\");\n",
       "\tviewer_17237737928875601.setStyle({\"stick\": {}, \"sphere\": {\"radius\": 0.3}});\n",
       "\tviewer_17237737928875601.setBackgroundColor(\"0xeeeeee\");\n",
       "\tviewer_17237737928875601.zoomTo();\n",
       "viewer_17237737928875601.render();\n",
       "});\n",
       "</script>"
      ]
     },
     "metadata": {},
     "output_type": "display_data"
    }
   ],
   "source": [
    "zgra = automol.zmat.graph(rotor.zmatrix, dummy=True)\n",
    "automol.graph.display(zgra, label=True, exp=True)\n",
    "automol.zmat.display(rotor.zmatrix, vis_dists=True)"
   ]
  },
  {
   "cell_type": "code",
   "execution_count": 4,
   "metadata": {},
   "outputs": [
    {
     "data": {
      "text/plain": [
       "Torsion(name='D15', coordinate=(10, 7, 14, 15), groups=((0, 1, 2, 3, 4, 5, 6, 8, 9, 11, 12, 13), (15, 16, 17, 18, 19)), symmetry=1, neighbor_groups=((1, 10, 14), (7, 15)))"
      ]
     },
     "execution_count": 4,
     "metadata": {},
     "output_type": "execute_result"
    }
   ],
   "source": [
    "tor = rotor.torsions[0]\n",
    "tor = automol.data.tors.update_against_zmatrix(tor, rotor.zmatrix)\n",
    "tor"
   ]
  },
  {
   "cell_type": "code",
   "execution_count": 5,
   "metadata": {},
   "outputs": [
    {
     "data": {
      "text/plain": [
       "(1, 7, 13, 14)"
      ]
     },
     "execution_count": 5,
     "metadata": {},
     "output_type": "execute_result"
    }
   ],
   "source": [
    "zc_ = automol.zmat.conversion_info(rotor.zmatrix)\n",
    "automol.data.tors.coordinate(tor, key_typ=\"geom\", zc_=zc_)"
   ]
  },
  {
   "cell_type": "code",
   "execution_count": null,
   "metadata": {},
   "outputs": [],
   "source": []
  }
 ],
 "metadata": {
  "kernelspec": {
   "display_name": "default",
   "language": "python",
   "name": "python3"
  },
  "language_info": {
   "codemirror_mode": {
    "name": "ipython",
    "version": 3
   },
   "file_extension": ".py",
   "mimetype": "text/x-python",
   "name": "python",
   "nbconvert_exporter": "python",
   "pygments_lexer": "ipython3",
   "version": "3.10.14"
  }
 },
 "nbformat": 4,
 "nbformat_minor": 2
}
